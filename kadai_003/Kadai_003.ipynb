{
 "cells": [
  {
   "cell_type": "code",
   "execution_count": 1,
   "id": "4045d794-9912-4e0e-9f6c-3805f6bd3efd",
   "metadata": {},
   "outputs": [],
   "source": [
    "import numpy as np"
   ]
  },
  {
   "cell_type": "code",
   "execution_count": 2,
   "id": "0300cfbb-8f08-4116-84c7-77bace38303d",
   "metadata": {},
   "outputs": [],
   "source": [
    "A=np.array([[0,1],[2,3],[4,5]])"
   ]
  },
  {
   "cell_type": "code",
   "execution_count": 3,
   "id": "b30bc374-e165-4ec4-a55b-b6344eb34801",
   "metadata": {},
   "outputs": [],
   "source": [
    "B=np.arange(8).reshape(2,4)"
   ]
  },
  {
   "cell_type": "code",
   "execution_count": 4,
   "id": "6045d16f-b3fe-49d8-b557-6e7718dd18d8",
   "metadata": {},
   "outputs": [],
   "source": [
    "calc_dot = np.dot(A,B)"
   ]
  },
  {
   "cell_type": "code",
   "execution_count": 5,
   "id": "9fae3f95-2505-4f00-b6c5-5eb4eca6168f",
   "metadata": {},
   "outputs": [
    {
     "data": {
      "text/plain": [
       "array([[ 4,  5,  6,  7],\n",
       "       [12, 17, 22, 27],\n",
       "       [20, 29, 38, 47]])"
      ]
     },
     "execution_count": 5,
     "metadata": {},
     "output_type": "execute_result"
    }
   ],
   "source": [
    "calc_dot"
   ]
  },
  {
   "cell_type": "code",
   "execution_count": 6,
   "id": "3c8ee86d-67a5-43ba-945d-7542c42914b6",
   "metadata": {},
   "outputs": [
    {
     "data": {
      "text/plain": [
       "47"
      ]
     },
     "execution_count": 6,
     "metadata": {},
     "output_type": "execute_result"
    }
   ],
   "source": [
    "np.max(calc_dot)"
   ]
  },
  {
   "cell_type": "code",
   "execution_count": null,
   "id": "b8ddf83a-62e9-4592-9daa-18430b0988e6",
   "metadata": {},
   "outputs": [],
   "source": []
  }
 ],
 "metadata": {
  "kernelspec": {
   "display_name": "Python 3 (ipykernel)",
   "language": "python",
   "name": "python3"
  },
  "language_info": {
   "codemirror_mode": {
    "name": "ipython",
    "version": 3
   },
   "file_extension": ".py",
   "mimetype": "text/x-python",
   "name": "python",
   "nbconvert_exporter": "python",
   "pygments_lexer": "ipython3",
   "version": "3.9.6"
  }
 },
 "nbformat": 4,
 "nbformat_minor": 5
}
